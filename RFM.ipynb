{
 "cells": [
  {
   "cell_type": "code",
   "execution_count": 128,
   "metadata": {},
   "outputs": [],
   "source": [
    "import pandas as pd\n",
    "from scipy import stats\n",
    "import datetime\n",
    "import rpy2\n",
    "import seaborn as sns\n",
    "import numpy as np\n",
    "import xarray as xr\n",
    "from kshape.core import kshape, zscore\n",
    "from tslearn.clustering import KShape\n",
    "import matplotlib.pyplot as plt"
   ]
  },
  {
   "cell_type": "markdown",
   "metadata": {},
   "source": [
    "## 0. Preprocessing"
   ]
  },
  {
   "cell_type": "code",
   "execution_count": 58,
   "metadata": {},
   "outputs": [],
   "source": [
    "df = pd.read_csv(\"ecs_series_1_uid_encoded(1).csv\")\n",
    "datetime_object = datetime.datetime.strptime(\"9/27/18 16:00\", \"%m/%d/%y %H:%M\")\n",
    "df['Date'] = df[\"ds\"].apply(lambda x:datetime.datetime.strptime(x, \"%m/%d/%y %H:%M\"))\n",
    "df = df.drop(columns = ['ds','region_no_factor','iz_no_factor','product_factor','instance_type_name_factor','instance_type_family_factor'])"
   ]
  },
  {
   "cell_type": "code",
   "execution_count": 59,
   "metadata": {},
   "outputs": [],
   "source": [
    "df = df.groupby(by=['uid','Date']).sum().reset_index()\n",
    "df = df.pivot(columns = 'Date',index = 'uid',values = 'vcpu_net_delead')"
   ]
  },
  {
   "cell_type": "code",
   "execution_count": 60,
   "metadata": {},
   "outputs": [],
   "source": [
    "df_recency =  pd.DataFrame(columns = df.columns)\n",
    "df_monetary =  pd.DataFrame(columns = df.columns)\n",
    "df_frequency = pd.DataFrame(columns = df.columns)"
   ]
  },
  {
   "cell_type": "code",
   "execution_count": 61,
   "metadata": {},
   "outputs": [],
   "source": [
    "df_test = df.sample(2000)"
   ]
  },
  {
   "cell_type": "code",
   "execution_count": 62,
   "metadata": {},
   "outputs": [],
   "source": [
    "df_test.to_csv('test.csv')"
   ]
  },
  {
   "cell_type": "markdown",
   "metadata": {},
   "source": [
    "## 1. RFM-analysis"
   ]
  },
  {
   "cell_type": "code",
   "execution_count": 63,
   "metadata": {},
   "outputs": [],
   "source": [
    "for index, row in df_test.iterrows():\n",
    "    arr = []\n",
    "    arr = list(row)\n",
    "    rec_arr = []\n",
    "    mon_arr = []\n",
    "    freq_arr = []\n",
    "    start_date = row.index[0]\n",
    "    last_purchase = np.nan\n",
    "    first_purchase = 0 #flag\n",
    "    total_purchases = 0\n",
    "    #RECENCY Customer did a explicit activity, such as renting cores or releasing cores.\n",
    "    for j, entry in enumerate(arr):\n",
    "        if (np.isnan(entry)):            \n",
    "            if (first_purchase==0):\n",
    "                rec_arr.append(row.index[j]-start_date)\n",
    "            else:\n",
    "                rec_arr.append(row.index[j]-last_purchase)\n",
    "        else:\n",
    "            #not nan\n",
    "            total_purchases+=1\n",
    "            first_purchase = 1\n",
    "            rec_arr.append(0)\n",
    "            last_purchase = row.index[j]\n",
    "        #FREQUENCY it can be a cumulative average, the number of events divided by the number of days that have passed\n",
    "        freq_arr.append(total_purchases/(j+1))\n",
    "    df_recency.loc[index] = rec_arr\n",
    "    df_frequency.loc[index]=freq_arr\n",
    "    #MONETARY  Moving average monetary value\n",
    "    current_servers = 0\n",
    "    total_days_of_purchases = 0 \n",
    "    for j,entry in enumerate(arr):\n",
    "        if (np.isnan(entry)):\n",
    "            total_days_of_purchases+=current_servers\n",
    "        else:\n",
    "            current_servers+=entry\n",
    "            total_days_of_purchases+=current_servers\n",
    "        mon_arr.append(total_days_of_purchases/(j+1))\n",
    "    df_monetary.loc[index] = mon_arr\n",
    "df_recency=df_recency.applymap( lambda x:0 if (type(x)==int) else x.days)"
   ]
  },
  {
   "cell_type": "markdown",
   "metadata": {},
   "source": [
    "## 2. Clustering"
   ]
  },
  {
   "cell_type": "code",
   "execution_count": 90,
   "metadata": {},
   "outputs": [
    {
     "name": "stdout",
     "output_type": "stream",
     "text": [
      "0.079 --> 0.080 --> \n",
      "0.092 --> 0.063 --> 0.062 --> 0.062 --> 0.062 --> \n",
      "Resumed because of empty cluster\n",
      "0.178 --> 0.176 --> 0.174 --> 0.162 --> 0.154 --> 0.153 --> 0.150 --> 0.148 --> 0.148 --> 0.148 --> 0.148 --> 0.147 --> 0.147 --> 0.147 --> 0.147 --> 0.147 --> 0.147 --> 0.147 --> 0.147 --> 0.147 --> 0.146 --> 0.146 --> 0.146 --> 0.146 --> 0.146 --> 0.146 --> 0.146 --> 0.146 --> 0.146 --> 0.146 --> 0.145 --> 0.145 --> 0.145 --> 0.145 --> 0.145 --> 0.145 --> 0.145 --> 0.145 --> 0.145 --> 0.145 --> 0.145 --> 0.145 --> 0.145 --> 0.144 --> 0.144 --> 0.144 --> 0.144 --> 0.144 --> 0.144 --> 0.144 --> 0.144 --> 0.144 --> 0.144 --> 0.144 --> 0.144 --> 0.144 --> 0.144 --> 0.143 --> 0.143 --> 0.143 --> 0.143 --> 0.143 --> 0.143 --> 0.143 --> 0.143 --> 0.143 --> 0.143 --> 0.143 --> 0.143 --> 0.143 --> 0.143 --> 0.142 --> 0.142 --> 0.142 --> 0.142 --> 0.142 --> 0.142 --> 0.142 --> 0.142 --> 0.142 --> 0.142 --> 0.142 --> 0.142 --> 0.142 --> 0.142 --> 0.142 --> 0.142 --> 0.142 --> 0.142 --> 0.142 --> 0.141 --> Resumed because of empty cluster\n",
      "0.161 --> Resumed because of empty cluster\n",
      "0.166 --> 0.143 --> 0.137 --> Resumed because of empty cluster\n",
      "0.179 --> 0.159 --> 0.146 --> 0.145 --> 0.145 --> 0.145 --> 0.145 --> 0.145 --> 0.144 --> 0.144 --> 0.144 --> 0.144 --> 0.144 --> 0.144 --> 0.144 --> 0.144 --> 0.144 --> 0.144 --> Resumed because of empty cluster\n",
      "0.161 --> Resumed because of empty cluster\n",
      "0.157 --> 0.129 --> 0.127 --> 0.126 --> 0.126 --> 0.126 --> 0.126 --> 0.126 --> 0.126 --> 0.125 --> 0.125 --> 0.125 --> 0.125 --> 0.125 --> 0.125 --> 0.124 --> 0.124 --> 0.124 --> 0.124 --> 0.124 --> 0.124 --> 0.124 --> 0.123 --> 0.123 --> 0.123 --> 0.123 --> 0.123 --> 0.123 --> 0.123 --> 0.122 --> 0.122 --> 0.122 --> 0.122 --> 0.122 --> 0.122 --> 0.122 --> 0.121 --> 0.121 --> 0.121 --> 0.121 --> 0.121 --> 0.121 --> 0.121 --> 0.121 --> 0.120 --> 0.120 --> 0.120 --> 0.120 --> 0.120 --> 0.120 --> 0.120 --> 0.120 --> 0.119 --> 0.119 --> 0.119 --> 0.119 --> 0.119 --> 0.119 --> 0.119 --> 0.119 --> 0.119 --> 0.118 --> 0.118 --> 0.118 --> 0.118 --> 0.118 --> 0.118 --> 0.118 --> 0.118 --> 0.117 --> 0.117 --> 0.117 --> 0.117 --> 0.117 --> 0.117 --> 0.117 --> 0.117 --> 0.116 --> 0.116 --> 0.116 --> 0.116 --> 0.116 --> 0.116 --> 0.116 --> 0.116 --> 0.116 --> 0.115 --> 0.115 --> 0.115 --> 0.115 --> 0.115 --> 0.115 --> 0.115 --> 0.115 --> 0.114 --> 0.114 --> 0.114 --> 0.114 --> 0.114 --> 0.114 --> \n"
     ]
    }
   ],
   "source": [
    "ksh_monetary = KShape(n_clusters=4)\n",
    "df_monetary['label'] = ksh_monetary.fit(df_monetary.values)\n",
    "ksh_frequency = KShape(n_clusters=4)\n",
    "df_frequency['label'] = ksh_frequency.fit(df_frequency.values)\n",
    "ksh_recency = KShape(n_clusters=4)\n",
    "df_recency['label'] = ksh_recency.fit(df_recency.values)"
   ]
  },
  {
   "cell_type": "code",
   "execution_count": 122,
   "metadata": {},
   "outputs": [],
   "source": [
    "df_monetary['label'] =ksh_monetary.labels_\n",
    "df_frequency['label'] =ksh_frequency.labels_\n",
    "df_recency['label'] =ksh_recency.labels_"
   ]
  },
  {
   "cell_type": "code",
   "execution_count": null,
   "metadata": {},
   "outputs": [],
   "source": [
    "df_centroids = pd.DataFrame(columns = df_recency.drop(columns = 'label').columns)\n",
    "for i in range(ksh_recency.cluster_centers_.shape[0]):\n",
    "    df_centroids.loc['Centroid_for_recency_'+str(i)]= ksh_recency.cluster_centers_[i].ravel()\n",
    "    df_centroids.loc['Centroid_for_frequency_'+str(i)]= ksh_frequency.cluster_centers_[i].ravel()\n",
    "    df_centroids.loc['Centroid_for_monetary_'+str(i)]= ksh_monetary.cluster_centers_[i].ravel()"
   ]
  },
  {
   "cell_type": "code",
   "execution_count": 159,
   "metadata": {},
   "outputs": [],
   "source": [
    "df_monetary.to_csv(\"monetary.csv\")\n",
    "df_frequency.to_csv(\"frequency.csv\")\n",
    "df_recency.to_csv(\"recency.csv\")\n",
    "df_centroids.to_csv(\"cluster_centroids.csv\")"
   ]
  }
 ],
 "metadata": {
  "kernelspec": {
   "display_name": "Python 3",
   "language": "python",
   "name": "python3"
  },
  "language_info": {
   "codemirror_mode": {
    "name": "ipython",
    "version": 3
   },
   "file_extension": ".py",
   "mimetype": "text/x-python",
   "name": "python",
   "nbconvert_exporter": "python",
   "pygments_lexer": "ipython3",
   "version": "3.6.8"
  }
 },
 "nbformat": 4,
 "nbformat_minor": 2
}
